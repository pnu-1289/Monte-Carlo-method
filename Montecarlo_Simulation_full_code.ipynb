{
  "nbformat": 4,
  "nbformat_minor": 0,
  "metadata": {
    "colab": {
      "provenance": []
    },
    "kernelspec": {
      "name": "python3",
      "display_name": "Python 3"
    },
    "language_info": {
      "name": "python"
    }
  },
  "cells": [
    {
      "cell_type": "code",
      "source": [
        "# plot_ellipses에 필요한 모듈\n",
        "from matplotlib.patches import Ellipse\n",
        "import matplotlib.pyplot as plt"
      ],
      "metadata": {
        "id": "CCtTkgNzRyOq"
      },
      "execution_count": 1,
      "outputs": []
    },
    {
      "cell_type": "code",
      "source": [
        "# montecarlo에 필요한 모듈\n",
        "import random\n",
        "import math\n",
        "import numpy as np\n",
        "import matplotlib.pyplot as plt"
      ],
      "metadata": {
        "id": "8-MJaA0qSRqo"
      },
      "execution_count": 2,
      "outputs": []
    },
    {
      "cell_type": "code",
      "source": [
        "# Ellipse 모듈을 이용하여 두 타원 그래프 그리는 함수\n",
        "\n",
        "def plot_ellipses_by_module(a1,b1,x1,y1,theta1,a2,b2,x2,y2,theta2):\n",
        "    fig, ax = plt.subplots()\n",
        "\n",
        "    # Create first ellipse and add to plot\n",
        "    ellipse1 = Ellipse(xy=(float(x1), float(y1)), width=float(a1)*2, height=float(b1)*2, angle=float(theta1))\n",
        "    x1_min = ellipse1.center[0] - ellipse1.width\n",
        "    x1_max = ellipse1.center[0] + ellipse1.width\n",
        "    y1_min = ellipse1.center[1] - ellipse1.height\n",
        "    y1_max = ellipse1.center[1] + ellipse1.height\n",
        "    ellipse1.set_alpha(0.2)\n",
        "    ax.add_patch(ellipse1)\n",
        "\n",
        "    # Create second ellipse and add to plot\n",
        "    ellipse2 = Ellipse(xy=(float(x2), float(y2)), width=float(a2)*2, height=float(b2)*2, angle=float(theta2))\n",
        "    x2_min = ellipse2.center[0] - ellipse2.width\n",
        "    x2_max = ellipse2.center[0] + ellipse2.width\n",
        "    y2_min = ellipse2.center[1] - ellipse2.height\n",
        "    y2_max = ellipse2.center[1] + ellipse2.height\n",
        "    ellipse2.set_alpha(0.2)\n",
        "    ax.add_patch(ellipse2)\n",
        "\n",
        "    x_min=min(x1_min,x2_min)\n",
        "    x_max=max(x1_max,x2_max)\n",
        "    y_min=min(y1_min,y2_min)\n",
        "    y_max=max(y1_max,y2_max)\n",
        "\n",
        "    ax.set_xlim([min(x1_min,x2_min),max(x1_max,x2_max)])\n",
        "    ax.set_ylim([min(y1_min,y2_min),max(y2_max,y2_max)])\n",
        "    plt.gca().set_aspect('equal')\n",
        "    \n",
        "    plt.show()"
      ],
      "metadata": {
        "id": "zl6zDlp6PK8K"
      },
      "execution_count": 3,
      "outputs": []
    },
    {
      "cell_type": "code",
      "source": [
        "def plot_ellipse(a, b, x0, y0, theta):\n",
        "    t = np.linspace(0, 2*np.pi, 1000)\n",
        "    ellipse = np.array([a*np.cos(t), b*np.sin(t)])\n",
        "    rotation_matrix = np.array([[np.cos(theta), -np.sin(theta)], [np.sin(theta), np.cos(theta)]])\n",
        "    rotated_ellipse = rotation_matrix @ ellipse\n",
        "    x = rotated_ellipse[0,:] + x0\n",
        "    y = rotated_ellipse[1,:] + y0\n",
        "    min_x=min(x)\n",
        "    max_x=max(x)\n",
        "    min_y=min(y)\n",
        "    max_y=max(y)\n",
        "    plt.plot(x, y)\n",
        "    plt.gca().set_aspect('equal')\n",
        "    return [min_x, max_x, min_y, max_y]"
      ],
      "metadata": {
        "id": "Mn9GtY8XSknw"
      },
      "execution_count": 4,
      "outputs": []
    },
    {
      "cell_type": "code",
      "source": [
        "def area_of_overlap_with_plot(a1, b1, x1, y1, theta1, a2, b2, x2, y2, theta2, num_samples=1000):\n",
        "    # theta 값들을 degree 값에서 radian 값으로 변환\n",
        "    theta1=theta1*np.pi/180\n",
        "    theta2=theta2*np.pi/180\n",
        "\n",
        "    e1=plot_ellipse(a1, b1, x1, y1, theta1)\n",
        "    e2=plot_ellipse(a2, b2, x2, y2, theta2)\n",
        "    \n",
        "    count = 0\n",
        "    for i in range(num_samples):\n",
        "        x = random.uniform(min(e1[0],e2[0]), max(e1[1],e2[1]))\n",
        "        y = random.uniform(min(e1[2],e2[2]), max(e1[3],e2[3]))\n",
        "\n",
        "        x1_new = (x - x1) * math.cos(-theta1) - (y - y1) * math.sin(-theta1) + x1\n",
        "        y1_new = (y - y1) * math.cos(-theta1) + (x - x1) * math.sin(-theta1) + y1 # fixed x1_new to y2_new\n",
        "        x2_new = (x - x2) * math.cos(-theta2) - (y - y2) * math.sin(-theta2) + x2\n",
        "        y2_new = (y - y2) * math.cos(-theta2) + (x - x2) * math.sin(-theta2) + y2\n",
        "\n",
        "\n",
        "        if ((x1_new-x1)**2/a1**2 + (y1_new-y1)**2/b1**2 <= 1) and ((x2_new-x2)**2/a2**2 + (y2_new-y2)**2/b2**2 <= 1):\n",
        "            count += 1\n",
        "            plt.scatter(x,y,c='r')\n",
        "        elif (x1_new-x1)**2/a1**2 + (y1_new-y1)**2/b1**2 <= 1:\n",
        "            plt.scatter(x,y,c='g')\n",
        "        elif (x2_new-x2)**2/a2**2 + (y2_new-y2)**2/b2**2 <= 1:\n",
        "            plt.scatter(x,y,c='b')\n",
        "        else:\n",
        "            plt.scatter(x,y,c='k')\n",
        "            \n",
        "    plt.show()\n",
        "\n",
        "    return (count/num_samples)*(max(e1[1],e2[1])-min(e1[0],e2[0]))*(max(e1[3],e2[3])-min(e1[2],e2[2]))"
      ],
      "metadata": {
        "id": "Ow5_oegDSkgP"
      },
      "execution_count": 6,
      "outputs": []
    },
    {
      "cell_type": "code",
      "source": [
        "def set_ellipse(a, b, x0, y0, theta):\n",
        "    t = np.linspace(0, 2*np.pi, 1000)\n",
        "    ellipse = np.array([a*np.cos(t), b*np.sin(t)])\n",
        "    rotation_matrix = np.array([[np.cos(theta), -np.sin(theta)], [np.sin(theta), np.cos(theta)]])\n",
        "    rotated_ellipse = rotation_matrix @ ellipse\n",
        "    x = rotated_ellipse[0,:] + x0\n",
        "    y = rotated_ellipse[1,:] + y0\n",
        "    min_x=min(x)\n",
        "    max_x=max(x)\n",
        "    min_y=min(y)\n",
        "    max_y=max(y)\n",
        "    return [min_x, max_x, min_y, max_y]"
      ],
      "metadata": {
        "id": "xqmXVH3prITq"
      },
      "execution_count": 5,
      "outputs": []
    },
    {
      "cell_type": "code",
      "source": [
        "# 몬테카를로 시뮬레이션으로 겹치는 넓이 계산 without plot\n",
        "\n",
        "def area_of_overlap_without_plot(a1, b1, x1, y1, theta1, a2, b2, x2, y2, theta2, num_samples=1000):\n",
        "    # theta 값들을 degree 값에서 radian 값으로 변환\n",
        "    theta1=theta1*np.pi/180\n",
        "    theta2=theta2*np.pi/180\n",
        "\n",
        "    e1=set_ellipse(a1, b1, x1, y1, theta1)\n",
        "    e2=set_ellipse(a2, b2, x2, y2, theta2)\n",
        "    \n",
        "    count = 0\n",
        "    for i in range(num_samples):\n",
        "        x = random.uniform(min(e1[0],e2[0]), max(e1[1],e2[1]))\n",
        "        y = random.uniform(min(e1[2],e2[2]), max(e1[3],e2[3]))\n",
        "\n",
        "        x1_new = (x - x1) * math.cos(-theta1) - (y - y1) * math.sin(-theta1) + x1\n",
        "        y1_new = (y - y1) * math.cos(-theta1) + (x - x1) * math.sin(-theta1) + y1 # fixed x1_new to y2_new\n",
        "        x2_new = (x - x2) * math.cos(-theta2) - (y - y2) * math.sin(-theta2) + x2\n",
        "        y2_new = (y - y2) * math.cos(-theta2) + (x - x2) * math.sin(-theta2) + y2\n",
        "\n",
        "\n",
        "        if ((x1_new-x1)**2/a1**2 + (y1_new-y1)**2/b1**2 <= 1) and ((x2_new-x2)**2/a2**2 + (y2_new-y2)**2/b2**2 <= 1):\n",
        "            count += 1\n",
        "\n",
        "    return (count/num_samples)*(max(e1[1],e2[1])-min(e1[0],e2[0]))*(max(e1[3],e2[3])-min(e1[2],e2[2]))"
      ],
      "metadata": {
        "id": "1Sas8qlHSno8"
      },
      "execution_count": 7,
      "outputs": []
    },
    {
      "cell_type": "code",
      "source": [
        "a1 = float(input(\"첫번째 타원의 x 반지름 : \"))\n",
        "b1 = float(input(\"첫번째 타원의 y 반지름 : \"))\n",
        "x1 = float(input(\"첫번째 타원의 중심 x 좌표 : \"))\n",
        "y1 = float(input(\"첫번째 타원의 중심 y 좌표 : \"))\n",
        "theta1 = float(input(\"첫번째 타원의 (반시계 방향)회전각(°) : \"))\n",
        "\n",
        "a2 = float(input(\"두번째 타원의 x 반지름 : \"))\n",
        "b2 = float(input(\"두번째 타원의 y 반지름 : \"))\n",
        "x2 = float(input(\"두번째 타원의 중심 x 좌표 : \"))\n",
        "y2 = float(input(\"두번째 타원의 중심 y 좌표 : \"))\n",
        "theta2 = float(input(\"두번째 타원의 (반시계 방향)회전각(°) : \"))"
      ],
      "metadata": {
        "colab": {
          "base_uri": "https://localhost:8080/"
        },
        "id": "lfABCgZFPOYj",
        "outputId": "5af27a65-4880-4188-853a-2677710ee719"
      },
      "execution_count": 8,
      "outputs": [
        {
          "name": "stdout",
          "output_type": "stream",
          "text": [
            "첫번째 타원의 x 반지름 : 5\n",
            "첫번째 타원의 y 반지름 : 7\n",
            "첫번째 타원의 중심 x 좌표 : 45\n",
            "첫번째 타원의 중심 y 좌표 : 69\n",
            "첫번째 타원의 (반시계 방향)회전각(°) : 20\n",
            "두번째 타원의 x 반지름 : 5\n",
            "두번째 타원의 y 반지름 : 8\n",
            "두번째 타원의 중심 x 좌표 : 56\n",
            "두번째 타원의 중심 y 좌표 : 9\n",
            "두번째 타원의 (반시계 방향)회전각(°) : 65\n"
          ]
        }
      ]
    },
    {
      "cell_type": "code",
      "source": [
        "plot_ellipses_by_module(a1,b1,x1,y1,theta1,a2,b2,x2,y2,theta2)"
      ],
      "metadata": {
        "colab": {
          "base_uri": "https://localhost:8080/",
          "height": 435
        },
        "id": "wjbkRoaiRvy6",
        "outputId": "1561486b-f6ab-4088-f403-7a5ff1351791"
      },
      "execution_count": 9,
      "outputs": [
        {
          "output_type": "display_data",
          "data": {
            "text/plain": [
              "<Figure size 640x480 with 1 Axes>"
            ],
            "image/png": "[encoded data removed]"
          },
          "metadata": {}
        }
      ]
    },
    {
      "cell_type": "code",
      "source": [
        "# with plot\n",
        "area = area_of_overlap_with_plot(a1,b1,x1,y1,theta1,a2,b2,x2,y2,theta2,10000)\n",
        "print(area)"
      ],
      "metadata": {
        "colab": {
          "base_uri": "https://localhost:8080/",
          "height": 448
        },
        "id": "evdN5d5lSsN6",
        "outputId": "7e1ffd14-b4f5-4082-8162-641e52e84e24"
      },
      "execution_count": 10,
      "outputs": [
        {
          "output_type": "display_data",
          "data": {
            "text/plain": [
              "<Figure size 640x480 with 1 Axes>"
            ],
            "image/png": "[encoded data removed]"
          },
          "metadata": {}
        },
        {
          "output_type": "stream",
          "name": "stdout",
          "text": [
            "0.0\n"
          ]
        }
      ]
    },
    {
      "cell_type": "code",
      "source": [
        "# 반복문 사용하여 오차 줄이기\n",
        "sum_area=0\n",
        "for i in range(1000):\n",
        "  area = area_of_overlap_without_plot(a1,b1,x1,y1,theta1,a2,b2,x2,y2,theta2,10000)\n",
        "  sum_area=sum_area+area\n",
        "print(\"타원의 넓이 : \",sum_area/1000)"
      ],
      "metadata": {
        "colab": {
          "base_uri": "https://localhost:8080/"
        },
        "id": "3WE5OvftSqj0",
        "outputId": "6f2b9f9a-bf27-4c30-b36e-0a67c241b08c"
      },
      "execution_count": 11,
      "outputs": [
        {
          "output_type": "stream",
          "name": "stdout",
          "text": [
            "타원의 넓이 :  0.0\n"
          ]
        }
      ]
    },
    {
      "cell_type": "code",
      "source": [
        "# num_samples 갯수 늘려서 오차 줄이기\n",
        "area = area_of_overlap_without_plot(a1,b1,x1,y1,theta1,a2,b2,x2,y2,theta2,10000000)\n",
        "print(area)"
      ],
      "metadata": {
        "colab": {
          "base_uri": "https://localhost:8080/"
        },
        "id": "2Jv60cXWSr0Q",
        "outputId": "30278ed4-b273-4292-b1a9-c837b9e645d4"
      },
      "execution_count": 12,
      "outputs": [
        {
          "output_type": "stream",
          "name": "stdout",
          "text": [
            "0.0\n"
          ]
        }
      ]
    }
  ]
}